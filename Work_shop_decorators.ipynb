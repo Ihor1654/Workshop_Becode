{
 "cells": [
  {
   "cell_type": "markdown",
   "metadata": {},
   "source": [
    "## What Are Decorators?\n",
    "\n",
    "### Basic exampel\n"
   ]
  },
  {
   "cell_type": "code",
   "execution_count": 9,
   "metadata": {},
   "outputs": [
    {
     "name": "stdout",
     "output_type": "stream",
     "text": [
      "calculate_sum executed in 40.0339 seconds.\n"
     ]
    },
    {
     "data": {
      "text/plain": [
       "499999500000"
      ]
     },
     "execution_count": 9,
     "metadata": {},
     "output_type": "execute_result"
    }
   ],
   "source": [
    "import time\n",
    "\n",
    "def timer(func): #The decorator function \n",
    "    def wrapper(*args, **kwargs):    #The wrapper \n",
    "        start = time.time()\n",
    "        result = func(*args, **kwargs) # Wrapped function call\n",
    "        end = time.time()\n",
    "        print(f\"{func.__name__} executed in {end - start:.4f} seconds.\")\n",
    "        return result\n",
    "    return wrapper\n",
    "\n",
    "@timer\n",
    "def calculate_sum(n):\n",
    "    # time.sleep(20)          #Uncomment this to see the difference\n",
    "    return sum(range(n))\n",
    "\n",
    "\n",
    "\n",
    "\n",
    "calculate_sum(10**6)\n"
   ]
  },
  {
   "cell_type": "markdown",
   "metadata": {},
   "source": [
    "### Parameterized Example\n"
   ]
  },
  {
   "cell_type": "code",
   "execution_count": 59,
   "metadata": {},
   "outputs": [
    {
     "name": "stdout",
     "output_type": "stream",
     "text": [
      "Retry 1/3 failed: Random failure\n",
      "Retry 2/3 failed: Random failure\n",
      "Retry 3/3 failed: Random failure\n"
     ]
    },
    {
     "ename": "Exception",
     "evalue": "Function failed after retries",
     "output_type": "error",
     "traceback": [
      "\u001b[0;31m---------------------------------------------------------------------------\u001b[0m",
      "\u001b[0;31mException\u001b[0m                                 Traceback (most recent call last)",
      "Cell \u001b[0;32mIn[59], line 24\u001b[0m\n\u001b[1;32m     21\u001b[0m         \u001b[38;5;28;01mraise\u001b[39;00m \u001b[38;5;167;01mValueError\u001b[39;00m(\u001b[38;5;124m\"\u001b[39m\u001b[38;5;124mRandom failure\u001b[39m\u001b[38;5;124m\"\u001b[39m)\n\u001b[1;32m     22\u001b[0m     \u001b[38;5;28;01mreturn\u001b[39;00m \u001b[38;5;124m\"\u001b[39m\u001b[38;5;124mSuccess!\u001b[39m\u001b[38;5;124m\"\u001b[39m\n\u001b[0;32m---> 24\u001b[0m \u001b[38;5;28mprint\u001b[39m(\u001b[43munstable_function\u001b[49m\u001b[43m(\u001b[49m\u001b[43m)\u001b[49m)\n",
      "Cell \u001b[0;32mIn[59], line 14\u001b[0m, in \u001b[0;36mretry.<locals>.decorator.<locals>.wrapper\u001b[0;34m(*args, **kwargs)\u001b[0m\n\u001b[1;32m     12\u001b[0m         \u001b[38;5;28mprint\u001b[39m(\u001b[38;5;124mf\u001b[39m\u001b[38;5;124m\"\u001b[39m\u001b[38;5;124mRetry \u001b[39m\u001b[38;5;132;01m{\u001b[39;00mi\u001b[38;5;241m+\u001b[39m\u001b[38;5;241m1\u001b[39m\u001b[38;5;132;01m}\u001b[39;00m\u001b[38;5;124m/\u001b[39m\u001b[38;5;132;01m{\u001b[39;00mtimes\u001b[38;5;132;01m}\u001b[39;00m\u001b[38;5;124m failed: \u001b[39m\u001b[38;5;132;01m{\u001b[39;00me\u001b[38;5;132;01m}\u001b[39;00m\u001b[38;5;124m\"\u001b[39m)\n\u001b[1;32m     13\u001b[0m         time\u001b[38;5;241m.\u001b[39msleep(delay)\n\u001b[0;32m---> 14\u001b[0m \u001b[38;5;28;01mraise\u001b[39;00m \u001b[38;5;167;01mException\u001b[39;00m(\u001b[38;5;124m\"\u001b[39m\u001b[38;5;124mFunction failed after retries\u001b[39m\u001b[38;5;124m\"\u001b[39m)\n",
      "\u001b[0;31mException\u001b[0m: Function failed after retries"
     ]
    }
   ],
   "source": [
    "import time\n",
    "from functools import wraps\n",
    "\n",
    "def retry(times, delay=1):\n",
    "    def decorator(func):\n",
    "        @wraps(func)\n",
    "        def wrapper(*args, **kwargs):\n",
    "            for i in range(times):\n",
    "                try:\n",
    "                    return func(*args, **kwargs)\n",
    "                except Exception as e:\n",
    "                    print(f\"Retry {i+1}/{times} failed: {e}\")\n",
    "                    time.sleep(delay)\n",
    "            raise Exception(\"Function failed after retries\")\n",
    "        return wrapper\n",
    "    return decorator\n",
    "\n",
    "@retry(times=3, delay=2)\n",
    "def unstable_function():\n",
    "    if time.time() % 2 > 1.5:  # Randomly fail\n",
    "        raise ValueError(\"Random failure\")\n",
    "    return \"Success!\"\n",
    "\n",
    "print(unstable_function())"
   ]
  },
  {
   "cell_type": "markdown",
   "metadata": {},
   "source": [
    "### Time for first drill!\n",
    "`Problem`: Create a decorator that takes a parameter to customize the greeting message. The decorator should add the custom greeting message before the return value of a function.\n",
    "\n",
    "`Instructions`:\n",
    "\n",
    "- Create a function get_name() that returns the name passed to it.\n",
    "- Write a decorator custom_greeting(greeting) that adds a custom greeting message before the name.\n",
    "- Apply the custom_greeting() decorator to the get_name() function and test it with different greetings.\n"
   ]
  },
  {
   "cell_type": "code",
   "execution_count": null,
   "metadata": {},
   "outputs": [],
   "source": [
    "#Place your code here\n"
   ]
  },
  {
   "cell_type": "code",
   "execution_count": 1,
   "metadata": {},
   "outputs": [
    {
     "name": "stdout",
     "output_type": "stream",
     "text": [
      "Alice\n",
      "Bob\n"
     ]
    }
   ],
   "source": [
    "# Use your decorator here\n",
    "def get_name(name):\n",
    "    return name\n",
    "\n",
    "# Example Output 1: \"Good Morning, Alice\"\n",
    "# Example Output 2: \"Hi, Bob\"\n",
    "print(get_name(\"Alice\"))\n",
    "print(get_name(\"Bob\"))\n"
   ]
  },
  {
   "cell_type": "markdown",
   "metadata": {},
   "source": [
    "##  Examples of Built-In Decorators"
   ]
  },
  {
   "cell_type": "markdown",
   "metadata": {},
   "source": [
    "### @functools.wraps\n",
    "- Ensures that the decorated function retains its original metadata (e.g., name, docstring, etc.).\n",
    "- Useful when creating custom decorators."
   ]
  },
  {
   "cell_type": "code",
   "execution_count": 10,
   "metadata": {},
   "outputs": [
    {
     "name": "stdout",
     "output_type": "stream",
     "text": [
      "greet\n",
      "This function greets the user.\n"
     ]
    }
   ],
   "source": [
    "from functools import wraps\n",
    "\n",
    "def my_decorator(func):\n",
    "    @wraps(func)\n",
    "    def wrapper(*args, **kwargs):\n",
    "        print(\"Wrapper executed!\")\n",
    "        return func(*args, **kwargs)\n",
    "    return wrapper\n",
    "\n",
    "@my_decorator\n",
    "def greet():\n",
    "    \"\"\"This function greets the user.\"\"\"\n",
    "    print(\"Hello!\")\n",
    "\n",
    "print(greet.__name__) \n",
    "print(greet.__doc__)  "
   ]
  },
  {
   "cell_type": "markdown",
   "metadata": {},
   "source": [
    "Now try it without @wraps(func)"
   ]
  },
  {
   "cell_type": "code",
   "execution_count": 11,
   "metadata": {},
   "outputs": [
    {
     "name": "stdout",
     "output_type": "stream",
     "text": [
      "wrapper\n",
      "None\n"
     ]
    }
   ],
   "source": [
    "def my_decorator(func):\n",
    "    def wrapper(*args, **kwargs):\n",
    "        print(\"Wrapper executed!\")\n",
    "        return func(*args, **kwargs)\n",
    "    return wrapper\n",
    "\n",
    "@my_decorator\n",
    "def greet():\n",
    "    \"\"\"This function greets the user.\"\"\"\n",
    "    print(\"Hello!\")\n",
    "\n",
    "print(greet.__name__) \n",
    "print(greet.__doc__)"
   ]
  },
  {
   "cell_type": "markdown",
   "metadata": {},
   "source": [
    "### @property\n",
    "- Allows methods to be accessed like attributes.\n"
   ]
  },
  {
   "cell_type": "code",
   "execution_count": 12,
   "metadata": {},
   "outputs": [
    {
     "name": "stdout",
     "output_type": "stream",
     "text": [
      "20\n"
     ]
    }
   ],
   "source": [
    "class Rectangle:\n",
    "    def __init__(self, width, height):\n",
    "        self.width = width\n",
    "        self.height = height\n",
    "\n",
    "    @property\n",
    "    def area(self):\n",
    "        return self.width * self.height\n",
    "\n",
    "rect = Rectangle(4, 5)\n",
    "print(rect.area)  \n"
   ]
  },
  {
   "cell_type": "code",
   "execution_count": null,
   "metadata": {},
   "outputs": [],
   "source": [
    "class Circle:\n",
    "    def __init__(self, radius):\n",
    "        self._radius = radius\n",
    "\n",
    "    @property\n",
    "    def area(self):\n",
    "        return 3.14 * (self._radius ** 2)\n",
    "\n",
    "circle = Circle(5)\n",
    "print(circle.area)  # 78.5\n"
   ]
  },
  {
   "cell_type": "markdown",
   "metadata": {},
   "source": [
    " ### @functools.lru_cache\n",
    " - Caches function outputs for optimization.\n"
   ]
  },
  {
   "cell_type": "code",
   "execution_count": 47,
   "metadata": {},
   "outputs": [
    {
     "name": "stdout",
     "output_type": "stream",
     "text": [
      "55\n"
     ]
    }
   ],
   "source": [
    "from functools import lru_cache\n",
    "\n",
    "@lru_cache(maxsize=100)\n",
    "def fibonacci(n):\n",
    "    if n < 2:\n",
    "        return n\n",
    "    return fibonacci(n-1) + fibonacci(n-2)\n",
    "\n",
    "print(fibonacci(10))\n"
   ]
  },
  {
   "cell_type": "markdown",
   "metadata": {},
   "source": [
    "### @dataclasses.dataclass\n",
    "- A decorator for creating classes with minimal boilerplate.\n",
    "- Automatically adds methods like __init__, __repr__, and __eq__."
   ]
  },
  {
   "cell_type": "code",
   "execution_count": 49,
   "metadata": {},
   "outputs": [
    {
     "name": "stdout",
     "output_type": "stream",
     "text": [
      "Point(x=1, y=2)\n",
      "True\n"
     ]
    }
   ],
   "source": [
    "from dataclasses import dataclass\n",
    "\n",
    "@dataclass\n",
    "class Point:\n",
    "    x: int\n",
    "    y: int\n",
    "\n",
    "p1 = Point(1, 2)\n",
    "p2 = Point(1, 2)\n",
    "print(p1)        \n",
    "print(p1 == p2)   "
   ]
  },
  {
   "cell_type": "markdown",
   "metadata": {},
   "source": [
    "Exampel without decorator\n"
   ]
  },
  {
   "cell_type": "code",
   "execution_count": 56,
   "metadata": {},
   "outputs": [
    {
     "name": "stdout",
     "output_type": "stream",
     "text": [
      "True\n",
      "<__main__.Point object at 0x10b433750>\n"
     ]
    }
   ],
   "source": [
    "from dataclasses import dataclass\n",
    "\n",
    "class Point:\n",
    "    def __init__(self,x: int,y: int):\n",
    "        self.x = x\n",
    "        self.y = y\n",
    "\n",
    "    def __eq__(self, other): #Try to comment this method to see the difference\n",
    "        if isinstance(other, Point):\n",
    "            return self.x == other.x and self.y == other.y\n",
    "        return False\n",
    "    \n",
    "\n",
    "    def __repr__(self): #Try to comment this method to see the difference\n",
    "        return f\"Point(x={self.x}, y={self.y})\"\n",
    "    \n",
    "\n",
    "p1 = Point(1, 2)\n",
    "p2 = Point(1, 2)\n",
    "\n",
    "print(p1 == p2)   \n",
    "print(p1)         "
   ]
  },
  {
   "cell_type": "markdown",
   "metadata": {},
   "source": [
    " ## Chaining Multiple Decorators"
   ]
  },
  {
   "cell_type": "code",
   "execution_count": 69,
   "metadata": {},
   "outputs": [
    {
     "name": "stdout",
     "output_type": "stream",
     "text": [
      "HELLO, ALICE!\n"
     ]
    }
   ],
   "source": [
    "def uppercase(func):\n",
    "    def wrapper(*args, **kwargs):\n",
    "        return func(*args, **kwargs).upper()\n",
    "    return wrapper\n",
    "\n",
    "def exclaim(func):\n",
    "    def wrapper(*args, **kwargs):\n",
    "        return func(*args, **kwargs) + \"!\"\n",
    "    return wrapper\n",
    "\n",
    "@uppercase #Try to comment\n",
    "@exclaim\n",
    "def greet(name):\n",
    "    return f\"Hello, {name}\"\n",
    "\n",
    "print(greet(\"Alice\"))  \n"
   ]
  },
  {
   "cell_type": "markdown",
   "metadata": {},
   "source": [
    "## Decorators in Classes\n",
    "\n"
   ]
  },
  {
   "cell_type": "code",
   "execution_count": null,
   "metadata": {},
   "outputs": [],
   "source": [
    "def check_positive(func):     #The decorator is declared outside the class.\n",
    "    def wrapper(self, value):\n",
    "        if value < 0:\n",
    "            raise ValueError(\"Value must be positive!\")\n",
    "        return func(self, value)\n",
    "    return wrapper\n",
    "\n",
    "class BankAccount:\n",
    "    def __init__(self, balance=0):\n",
    "        self.balance = balance\n",
    "\n",
    "    @check_positive  #The decorator is used as a wraper around class method \n",
    "    def deposit(self, amount):\n",
    "        self.balance += amount\n",
    "        print(f\"Deposited {amount}, new balance: {self.balance}\")\n",
    "\n",
    "account = BankAccount()\n",
    "account.deposit(100)\n",
    "# account.deposit(-50)  # Raises ValueError\n"
   ]
  },
  {
   "cell_type": "markdown",
   "metadata": {},
   "source": [
    "## Class-Based Decorator\n",
    "\n",
    "\n",
    "### Explanation:\n",
    "- **Initialization (__init__)**: The decorator class takes the target function as an argument and stores it in the instance (e.g., self.func).\n",
    "- **Callability (__call__)**: The __call__ method makes the class instance callable, similar to a function. It allows adding logic before and after invoking the wrapped function.\n",
    "- **State Initialization (call_count)**: The decorator has a *call_count* attribute, which tracks the number of times the decorated function is invoked. \n",
    "- **State Update in __call__**: Each time the decorated function is called, the *call_count* is incremented, and the count is printed.\n",
    "- **Function Execution**: The actual decorated function (*self.func*) is called with the provided arguments."
   ]
  },
  {
   "cell_type": "code",
   "execution_count": 70,
   "metadata": {},
   "outputs": [
    {
     "name": "stdout",
     "output_type": "stream",
     "text": [
      "Call 1 to greet\n",
      "Hello, Alice!\n",
      "Call 2 to greet\n",
      "Hello, Bob!\n",
      "Call 3 to greet\n",
      "Hello, Charlie!\n"
     ]
    }
   ],
   "source": [
    "class CallCounter:\n",
    "    def __init__(self, func):\n",
    "        self.func = func\n",
    "        self.call_count = 0  # State to track the number of calls\n",
    "\n",
    "    def __call__(self, *args, **kwargs):\n",
    "        self.call_count += 1  # Increment the call count\n",
    "        print(f\"Call {self.call_count} to {self.func.__name__}\")\n",
    "        return self.func(*args, **kwargs)\n",
    "\n",
    "@CallCounter\n",
    "def greet(name):\n",
    "    print(f\"Hello, {name}!\")\n",
    "\n",
    "# Using the decorated function\n",
    "greet(\"Alice\")\n",
    "greet(\"Bob\")\n",
    "greet(\"Charlie\")\n"
   ]
  },
  {
   "cell_type": "markdown",
   "metadata": {},
   "source": [
    "## Real-World examples\n",
    "### 1. Logging Decorator:\n",
    "\n"
   ]
  },
  {
   "cell_type": "code",
   "execution_count": 71,
   "metadata": {},
   "outputs": [
    {
     "name": "stdout",
     "output_type": "stream",
     "text": [
      "Function process_data called with ('data.csv',), {}\n",
      "Processing data.csv\n"
     ]
    }
   ],
   "source": [
    "def log(func):\n",
    "    def wrapper(*args, **kwargs):\n",
    "        print(f\"Function {func.__name__} called with {args}, {kwargs}\")\n",
    "        return func(*args, **kwargs)\n",
    "    return wrapper\n",
    "\n",
    "@log\n",
    "def process_data(data):\n",
    "    print(f\"Processing {data}\")\n",
    "\n",
    "process_data(\"data.csv\")\n"
   ]
  },
  {
   "cell_type": "markdown",
   "metadata": {},
   "source": [
    "### 2. Authentication Decorator:\n"
   ]
  },
  {
   "cell_type": "code",
   "execution_count": 72,
   "metadata": {},
   "outputs": [
    {
     "name": "stdout",
     "output_type": "stream",
     "text": [
      "Access Denied!\n"
     ]
    }
   ],
   "source": [
    "def authenticate(user_role):\n",
    "    def decorator(func):\n",
    "        def wrapper(*args, **kwargs):\n",
    "            if user_role != \"admin\":\n",
    "                print(\"Access Denied!\")\n",
    "            else:\n",
    "                return func(*args, **kwargs)\n",
    "        return wrapper\n",
    "    return decorator\n",
    "\n",
    "@authenticate(\"user\")\n",
    "def delete_record():\n",
    "    print(\"Record deleted.\")\n",
    "\n",
    "\n",
    "\n",
    "delete_record()\n"
   ]
  },
  {
   "cell_type": "code",
   "execution_count": 73,
   "metadata": {},
   "outputs": [
    {
     "name": "stdout",
     "output_type": "stream",
     "text": [
      "Record deleted.\n"
     ]
    }
   ],
   "source": [
    "@authenticate(\"admin\")\n",
    "def delete_record():\n",
    "    print(\"Record deleted.\")\n",
    "\n",
    "\n",
    "\n",
    "delete_record()"
   ]
  },
  {
   "cell_type": "markdown",
   "metadata": {},
   "source": [
    "### 3. Rate Limiting\n",
    "Prevent a function from being called more than a specified number of times within a time window."
   ]
  },
  {
   "cell_type": "code",
   "execution_count": 74,
   "metadata": {},
   "outputs": [
    {
     "name": "stdout",
     "output_type": "stream",
     "text": [
      "Hello!\n",
      "Hello!\n",
      "Hello!\n",
      "Hello!\n",
      "Hello!\n",
      "Hello!\n",
      "Hello!\n",
      "Hello!\n"
     ]
    }
   ],
   "source": [
    "import time\n",
    "from functools import wraps\n",
    "\n",
    "def rate_limit(calls_per_second):\n",
    "    interval = 1.0 / calls_per_second\n",
    "    def decorator(func):\n",
    "        last_called = [0.0]  # Mutable to retain state\n",
    "\n",
    "        @wraps(func)\n",
    "        def wrapper(*args, **kwargs):\n",
    "            elapsed = time.time() - last_called[0]\n",
    "            if elapsed < interval:\n",
    "                time.sleep(interval - elapsed)\n",
    "            last_called[0] = time.time()\n",
    "            return func(*args, **kwargs)\n",
    "        return wrapper\n",
    "    return decorator\n",
    "\n",
    "@rate_limit(2)  # Limit to 2 calls per second\n",
    "def say_hello():\n",
    "    print(\"Hello!\")\n",
    "\n",
    "for _ in range(8):\n",
    "    say_hello()\n"
   ]
  },
  {
   "cell_type": "markdown",
   "metadata": {},
   "source": [
    "# It's time to try stuff yourself!!!"
   ]
  },
  {
   "cell_type": "markdown",
   "metadata": {},
   "source": [
    "We have a database whose structure is described using classes inherited from `Base`.\n",
    "\n",
    "\n",
    "![db_schema_diagram.png](db_schema_diagram.png)"
   ]
  },
  {
   "cell_type": "code",
   "execution_count": 2,
   "metadata": {},
   "outputs": [],
   "source": [
    "from sqlalchemy import create_engine, Column, Integer,Float, String, ForeignKey, Table\n",
    "from sqlalchemy.ext.declarative import declarative_base\n",
    "from sqlalchemy.orm import sessionmaker, relationship\n",
    "from functools import wraps\n"
   ]
  },
  {
   "cell_type": "code",
   "execution_count": 3,
   "metadata": {},
   "outputs": [
    {
     "name": "stderr",
     "output_type": "stream",
     "text": [
      "/var/folders/hz/b_vn9fhn1r976d9tyb3flfvh0000gp/T/ipykernel_9050/3012386525.py:1: MovedIn20Warning: Deprecated API features detected! These feature(s) are not compatible with SQLAlchemy 2.0. To prevent incompatible upgrades prior to updating applications, ensure requirements files are pinned to \"sqlalchemy<2.0\". Set environment variable SQLALCHEMY_WARN_20=1 to show all deprecation warnings.  Set environment variable SQLALCHEMY_SILENCE_UBER_WARNING=1 to silence this message. (Background on SQLAlchemy 2.0 at: https://sqlalche.me/e/b8d9)\n",
      "  Base = declarative_base()\n"
     ]
    }
   ],
   "source": [
    "\n",
    "Base = declarative_base()\n",
    "\n",
    "user_group = Table(\n",
    "    'user_group',\n",
    "    Base.metadata,\n",
    "    Column('user_id', Integer, ForeignKey('users.id'), primary_key=True),\n",
    "    Column('group_id', Integer, ForeignKey('groups.group_id'), primary_key=True),\n",
    ")\n",
    "\n",
    "class User(Base):\n",
    "    __tablename__ = 'users'\n",
    "\n",
    "    id = Column(Integer, primary_key=True,nullable=False)\n",
    "    firstname = Column(String,nullable=False)\n",
    "    lastname = Column(String,nullable=False)\n",
    "    company = Column(String)\n",
    "    business_unit = Column(String)\n",
    "    team = Column(String)\n",
    "    role = Column(String)\n",
    "    email = Column(String,nullable=False)\n",
    "    linkedin = Column(String)\n",
    "    email_count = Column(Integer, default=0)\n",
    "    email_opened= Column(Integer, default=0)\n",
    "    link_clicked = Column(Integer, default=0)\n",
    "    submited_data = Column(Integer, default=0)\n",
    "    email_reported = Column(Integer, default=0)\n",
    "    templates = relationship('Template', back_populates='user')\n",
    "    groups = relationship('Group', secondary=user_group, back_populates='users')\n",
    "\n",
    "class Group(Base):\n",
    "    __tablename__ = 'groups'\n",
    "\n",
    "    group_id = Column(Integer, primary_key=True)\n",
    "    name = Column(String,nullable=False)\n",
    "\n",
    "    users = relationship('User', secondary=user_group, back_populates='groups')\n",
    "\n",
    "class Template(Base):\n",
    "    __tablename__ = 'templates'\n",
    "\n",
    "    template_id = Column(Integer, primary_key=True)\n",
    "    html_template = Column(String, nullable=False)\n",
    "    user_id = Column(Integer, ForeignKey('users.id'))\n",
    "\n",
    "    user = relationship('User', back_populates='templates')\n",
    "\n",
    "class Theme(Base):\n",
    "    __tablename__ = 'themes'\n",
    "\n",
    "    id = Column(Integer, primary_key=True)\n",
    "    name = Column(String,unique=True)\n",
    "    landing_page = Column(String)\n",
    "    system_instruction = Column(String)\n",
    "    structur_instruction = Column(String)\n",
    "    prompt_template = Column(String)\n",
    "    subject = Column(String)\n",
    "    config_id = Column(Integer, ForeignKey('generative_config.id'))\n",
    "\n",
    "    generative_config = relationship('GenerativeConfig', back_populates='themes')\n",
    "\n",
    "class GenerativeConfig(Base):\n",
    "    __tablename__ = 'generative_config'\n",
    "\n",
    "    id = Column(Integer, primary_key=True)\n",
    "    temperature = Column(Float)\n",
    "    p = Column(Float)\n",
    "    k = Column(Integer)\n",
    "    max_output_tokens = Column(Integer)\n",
    "    response_mime_type = Column(String)\n",
    "\n",
    "    themes = relationship('Theme', back_populates='generative_config')\n",
    "\n",
    "class Campaign(Base):\n",
    "    __tablename__ = 'campaigns'\n",
    "\n",
    "    id = Column(Integer, primary_key=True)\n",
    "    name = Column(String,nullable=False,unique=True)\n",
    "    group_id = Column(Integer, ForeignKey('groups.group_id'))\n",
    "    theme_id = Column(Integer, ForeignKey('themes.id'))\n",
    "    group = relationship('Group')\n",
    "    theme = relationship('Theme')\n",
    "\n",
    "    \n",
    "\n",
    "\n",
    "\n"
   ]
  },
  {
   "cell_type": "markdown",
   "metadata": {},
   "source": [
    "We also have a class `DBWorker` that implements interaction with this database using SQLAlchemy. This class was written by a programmer who knows nothing about the DRY (Don't Repeat Yourself) principle or decorators.\n"
   ]
  },
  {
   "cell_type": "code",
   "execution_count": 5,
   "metadata": {},
   "outputs": [],
   "source": [
    "\n",
    "class DBWorker:\n",
    "    def __init__(self, db_path='WSDrills.db'):\n",
    "        self.db_path = db_path\n",
    "        self.engine = create_engine(f'sqlite:///{self.db_path}')\n",
    "        self.Session = sessionmaker(bind=self.engine)\n",
    "        Base.metadata.create_all(self.engine)\n",
    "\n",
    "    def add_user(self, firstname, lastname, company=None, business_unit=None, team=None, role=None, email=None, linkedin=None):\n",
    "        \"\"\"Add a new user to the database\"\"\"\n",
    "        session = self.Session()\n",
    "        try:\n",
    "            new_user = User(firstname=firstname, lastname=lastname, company=company,\n",
    "                            business_unit=business_unit, team=team, role=role, email=email, linkedin=linkedin)\n",
    "            session.add(new_user)\n",
    "            session.commit()\n",
    "            session.refresh(new_user)\n",
    "            return new_user\n",
    "        except Exception as e:\n",
    "            session.rollback()\n",
    "            print(f\"Error during adding user: {e}\")\n",
    "        finally:\n",
    "            session.close()\n",
    "\n",
    "    def delete_user(self, user_id):\n",
    "        \"\"\"Delete a user from the database\"\"\"\n",
    "        session = self.Session()\n",
    "        try:\n",
    "            user = session.query(User).filter_by(id=user_id).first()\n",
    "            if user:\n",
    "                session.delete(user)\n",
    "                session.commit()\n",
    "            return user\n",
    "        except Exception as e:\n",
    "            session.rollback()\n",
    "            print(f\"Error during deleting user: {e}\")\n",
    "        finally:\n",
    "            session.close()\n",
    "\n",
    "    def get_user(self, user_id):\n",
    "        \"\"\"Get a user from the database\"\"\"\n",
    "        session = self.Session()\n",
    "        try:\n",
    "            user = session.query(User).filter_by(id=user_id).first()\n",
    "            return user\n",
    "        except Exception as e:\n",
    "            print(f\"Error during fetching user: {e}\")\n",
    "        finally:\n",
    "            session.close()\n",
    "\n",
    "\n",
    "    def add_group(self, name):\n",
    "        \"\"\"Add a new group to the database\"\"\"\n",
    "        session = self.Session()\n",
    "        try:\n",
    "            new_group = Group(name=name)\n",
    "            session.add(new_group)\n",
    "            session.commit()\n",
    "            session.refresh(new_group)\n",
    "            return new_group\n",
    "        except Exception as e:\n",
    "            session.rollback()\n",
    "            print(f\"Error during adding group: {e}\")\n",
    "        finally:\n",
    "            session.close()\n",
    "\n",
    "    def delete_group(self, group_id):\n",
    "        \"\"\"Delete a group from the database\"\"\"\n",
    "        session = self.Session()\n",
    "        try:\n",
    "            group = session.query(Group).filter_by(group_id=group_id).first()\n",
    "            if group:\n",
    "                session.delete(group)\n",
    "                session.commit()\n",
    "            return group\n",
    "        except Exception as e:\n",
    "            session.rollback()\n",
    "            print(f\"Error during deleting group: {e}\")\n",
    "        finally:\n",
    "            session.close()\n",
    "\n",
    "    def get_group(self, group_id):\n",
    "        \"\"\"Get a group from the database\"\"\"\n",
    "        session = self.Session()\n",
    "        try:\n",
    "            group = session.query(Group).filter_by(group_id=group_id).first()\n",
    "            return group\n",
    "        except Exception as e:\n",
    "            print(f\"Error during fetching group: {e}\")\n",
    "        finally:\n",
    "            session.close()\n",
    "\n",
    "\n",
    "    def add_template(self, html_template, user_id):\n",
    "        \"\"\"Add a new template to the database\"\"\"\n",
    "        session = self.Session()\n",
    "        try:\n",
    "            new_template = Template(html_template=html_template, user_id=user_id)\n",
    "            session.add(new_template)\n",
    "            session.commit()\n",
    "            session.refresh(new_template)\n",
    "            return new_template\n",
    "        except Exception as e:\n",
    "            session.rollback()\n",
    "            print(f\"Error during adding template: {e}\")\n",
    "        finally:\n",
    "            session.close()\n",
    "\n",
    "    def delete_template(self, template_id):\n",
    "        \"\"\"Delete a template from the database\"\"\"\n",
    "        session = self.Session()\n",
    "        try:\n",
    "            template = session.query(Template).filter_by(template_id=template_id).first()\n",
    "            if template:\n",
    "                session.delete(template)\n",
    "                session.commit()\n",
    "            return template\n",
    "        except Exception as e:\n",
    "            session.rollback()\n",
    "            print(f\"Error during deleting template: {e}\")\n",
    "        finally:\n",
    "            session.close()\n",
    "\n",
    "    def get_template(self, template_id):\n",
    "        \"\"\"Get a template from the database\"\"\"\n",
    "        session = self.Session()\n",
    "        try:\n",
    "            template = session.query(Template).filter_by(template_id=template_id).first()\n",
    "            return template\n",
    "        except Exception as e:\n",
    "            print(f\"Error during fetching template: {e}\")\n",
    "        finally:\n",
    "            session.close()\n",
    "\n",
    "\n",
    "\n",
    "    def add_campaign(self, name, group_id, theme_id):\n",
    "        \"\"\"Add a new campaign to the database\"\"\"\n",
    "        session = self.Session()\n",
    "        try:\n",
    "            new_campaign = Campaign(name=name, group_id=group_id, theme_id=theme_id)\n",
    "            session.add(new_campaign)\n",
    "            session.commit()\n",
    "            session.refresh(new_campaign)\n",
    "            return new_campaign\n",
    "        except Exception as e:\n",
    "            session.rollback()\n",
    "            print(f\"Error during adding campaign: {e}\")\n",
    "        finally:\n",
    "            session.close()\n",
    "\n",
    "    def delete_campaign(self, campaign_id):\n",
    "        \"\"\"Delete a campaign from the database\"\"\"\n",
    "        session = self.Session()\n",
    "        try:\n",
    "            campaign = session.query(Campaign).filter_by(id=campaign_id).first()\n",
    "            if campaign:\n",
    "                session.delete(campaign)\n",
    "                session.commit()\n",
    "            return campaign\n",
    "        except Exception as e:\n",
    "            session.rollback()\n",
    "            print(f\"Error during deleting campaign: {e}\")\n",
    "        finally:\n",
    "            session.close()\n",
    "\n",
    "    def get_campaign(self, campaign_id):\n",
    "        \"\"\"Get a campaign from the database\"\"\"\n",
    "        session = self.Session()\n",
    "        try:\n",
    "            campaign = session.query(Campaign).filter_by(id=campaign_id).first()\n",
    "            return campaign\n",
    "        except Exception as e:\n",
    "            print(f\"Error during fetching campaign: {e}\")\n",
    "        finally:\n",
    "            session.close()\n",
    "\n"
   ]
  },
  {
   "cell_type": "code",
   "execution_count": 6,
   "metadata": {},
   "outputs": [],
   "source": [
    "\n",
    "# Usage\n",
    "db_worker = DBWorker()\n",
    "\n",
    "# Adding a user\n",
    "new_user = db_worker.add_user(\"John\", \"Doe\", email=\"john.doe@example.com\")\n",
    "\n",
    "# Adding a group\n",
    "new_group = db_worker.add_group(\"Marketing\")\n",
    "\n",
    "# Adding a template\n",
    "new_template = db_worker.add_template(\"<h1>Welcome!</h1>\", user_id=new_user.id)\n",
    "\n",
    "# Adding a campaign\n",
    "new_campaign = db_worker.add_campaign(\"Email Campaign 1\", group_id=new_group.group_id, theme_id=1)"
   ]
  },
  {
   "cell_type": "markdown",
   "metadata": {},
   "source": [
    "### Our task is to rewrite the class using decorators and following  the DRY (Don't Repeat Yourself) principle. \n",
    "\n",
    "\n",
    "- HINT: Ideally, the class should contain three methods: `add_record`, `delete_record`, and `get_record`."
   ]
  },
  {
   "cell_type": "code",
   "execution_count": null,
   "metadata": {},
   "outputs": [],
   "source": [
    "# Place your code here \n",
    "class DBWorker:\n",
    "    def __init__(self, db_path='WSDrills.db'):\n",
    "        self.db_path = db_path\n",
    "        self.engine = create_engine(f'sqlite:///{self.db_path}')\n",
    "        self.Session = sessionmaker(bind=self.engine)\n",
    "        Base.metadata.create_all(self.engine)\n",
    "\n",
    "    # Place your code here \n",
    "\n",
    "    \n"
   ]
  }
 ],
 "metadata": {
  "kernelspec": {
   "display_name": "base",
   "language": "python",
   "name": "python3"
  },
  "language_info": {
   "codemirror_mode": {
    "name": "ipython",
    "version": 3
   },
   "file_extension": ".py",
   "mimetype": "text/x-python",
   "name": "python",
   "nbconvert_exporter": "python",
   "pygments_lexer": "ipython3",
   "version": "3.13.1"
  }
 },
 "nbformat": 4,
 "nbformat_minor": 2
}
